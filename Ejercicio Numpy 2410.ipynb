{
 "cells": [
  {
   "cell_type": "code",
   "execution_count": 1,
   "id": "460f748f",
   "metadata": {},
   "outputs": [],
   "source": [
    "import numpy as np"
   ]
  },
  {
   "cell_type": "code",
   "execution_count": 2,
   "id": "b6d07169",
   "metadata": {},
   "outputs": [
    {
     "name": "stdout",
     "output_type": "stream",
     "text": [
      "1.21.5\n",
      "blas_mkl_info:\n",
      "    libraries = ['mkl_rt', 'pthread']\n",
      "    library_dirs = ['/Users/arturo/opt/anaconda3/lib']\n",
      "    define_macros = [('SCIPY_MKL_H', None), ('HAVE_CBLAS', None)]\n",
      "    include_dirs = ['/Users/arturo/opt/anaconda3/include']\n",
      "blas_opt_info:\n",
      "    libraries = ['mkl_rt', 'pthread']\n",
      "    library_dirs = ['/Users/arturo/opt/anaconda3/lib']\n",
      "    define_macros = [('SCIPY_MKL_H', None), ('HAVE_CBLAS', None)]\n",
      "    include_dirs = ['/Users/arturo/opt/anaconda3/include']\n",
      "lapack_mkl_info:\n",
      "    libraries = ['mkl_rt', 'pthread']\n",
      "    library_dirs = ['/Users/arturo/opt/anaconda3/lib']\n",
      "    define_macros = [('SCIPY_MKL_H', None), ('HAVE_CBLAS', None)]\n",
      "    include_dirs = ['/Users/arturo/opt/anaconda3/include']\n",
      "lapack_opt_info:\n",
      "    libraries = ['mkl_rt', 'pthread']\n",
      "    library_dirs = ['/Users/arturo/opt/anaconda3/lib']\n",
      "    define_macros = [('SCIPY_MKL_H', None), ('HAVE_CBLAS', None)]\n",
      "    include_dirs = ['/Users/arturo/opt/anaconda3/include']\n",
      "Supported SIMD extensions in this NumPy install:\n",
      "    baseline = SSE,SSE2,SSE3\n",
      "    found = SSSE3,SSE41,POPCNT,SSE42\n",
      "    not found = AVX,F16C,FMA3,AVX2,AVX512F,AVX512CD,AVX512_KNL,AVX512_SKX,AVX512_CLX,AVX512_CNL,AVX512_ICL\n",
      "None\n"
     ]
    }
   ],
   "source": [
    "print(np.__version__)\n",
    "print(np.show_config())"
   ]
  },
  {
   "cell_type": "code",
   "execution_count": 3,
   "id": "5cf5cbaf",
   "metadata": {},
   "outputs": [],
   "source": [
    "a=np.random.random((2,3,5))"
   ]
  },
  {
   "cell_type": "code",
   "execution_count": 4,
   "id": "04a77d17",
   "metadata": {},
   "outputs": [
    {
     "data": {
      "text/plain": [
       "array([[[0.01422808, 0.71647336, 0.37368544, 0.82352738, 0.81009146],\n",
       "        [0.09234917, 0.60192571, 0.04974171, 0.24434547, 0.99230726],\n",
       "        [0.5109829 , 0.22395272, 0.60431254, 0.66565325, 0.5625438 ]],\n",
       "\n",
       "       [[0.05925528, 0.5807624 , 0.02983751, 0.15873564, 0.66784761],\n",
       "        [0.35962397, 0.71703187, 0.6722439 , 0.53208209, 0.80965737],\n",
       "        [0.22911896, 0.5102746 , 0.26919396, 0.56192199, 0.20572996]]])"
      ]
     },
     "execution_count": 4,
     "metadata": {},
     "output_type": "execute_result"
    }
   ],
   "source": [
    "a"
   ]
  },
  {
   "cell_type": "code",
   "execution_count": 5,
   "id": "0a3998cb",
   "metadata": {},
   "outputs": [],
   "source": [
    "g=np.random.randint(0,1000,(2,3,5))"
   ]
  },
  {
   "cell_type": "code",
   "execution_count": 6,
   "id": "048cfab9",
   "metadata": {},
   "outputs": [
    {
     "name": "stdout",
     "output_type": "stream",
     "text": [
      "[[[248  29  83 880 197]\n",
      "  [ 86  27 619 217 409]\n",
      "  [138 666 759 881 163]]\n",
      "\n",
      " [[ 43 725 787  30 954]\n",
      "  [287 300 114 436 325]\n",
      "  [646 823 399 994 252]]]\n"
     ]
    }
   ],
   "source": [
    "print(g)"
   ]
  },
  {
   "cell_type": "code",
   "execution_count": 7,
   "id": "05fe9d47",
   "metadata": {},
   "outputs": [],
   "source": [
    "z=np.random.rand(2,3,5)"
   ]
  },
  {
   "cell_type": "code",
   "execution_count": 8,
   "id": "3c9218ce",
   "metadata": {},
   "outputs": [
    {
     "data": {
      "text/plain": [
       "array([[[0.84086542, 0.34428663, 0.57647195, 0.08581835, 0.14983343],\n",
       "        [0.10917748, 0.08178305, 0.66664461, 0.6053688 , 0.75861908],\n",
       "        [0.42198451, 0.86695675, 0.709721  , 0.57111708, 0.33065623]],\n",
       "\n",
       "       [[0.3845357 , 0.42861308, 0.86177736, 0.26560218, 0.72320431],\n",
       "        [0.60268819, 0.22639023, 0.6536218 , 0.28698668, 0.1313773 ],\n",
       "        [0.89728604, 0.94153415, 0.8366506 , 0.89559744, 0.02575064]]])"
      ]
     },
     "execution_count": 8,
     "metadata": {},
     "output_type": "execute_result"
    }
   ],
   "source": [
    "z"
   ]
  },
  {
   "cell_type": "code",
   "execution_count": 9,
   "id": "5d21fcaf",
   "metadata": {},
   "outputs": [],
   "source": [
    "b=np.ones((5,2,3))"
   ]
  },
  {
   "cell_type": "code",
   "execution_count": 10,
   "id": "771eee05",
   "metadata": {},
   "outputs": [
    {
     "data": {
      "text/plain": [
       "array([[[1., 1., 1.],\n",
       "        [1., 1., 1.]],\n",
       "\n",
       "       [[1., 1., 1.],\n",
       "        [1., 1., 1.]],\n",
       "\n",
       "       [[1., 1., 1.],\n",
       "        [1., 1., 1.]],\n",
       "\n",
       "       [[1., 1., 1.],\n",
       "        [1., 1., 1.]],\n",
       "\n",
       "       [[1., 1., 1.],\n",
       "        [1., 1., 1.]]])"
      ]
     },
     "execution_count": 10,
     "metadata": {},
     "output_type": "execute_result"
    }
   ],
   "source": [
    "b"
   ]
  },
  {
   "cell_type": "code",
   "execution_count": 11,
   "id": "d41b06fd",
   "metadata": {},
   "outputs": [
    {
     "data": {
      "text/plain": [
       "30"
      ]
     },
     "execution_count": 11,
     "metadata": {},
     "output_type": "execute_result"
    }
   ],
   "source": [
    "b.size"
   ]
  },
  {
   "cell_type": "code",
   "execution_count": 12,
   "id": "724fd987",
   "metadata": {},
   "outputs": [
    {
     "data": {
      "text/plain": [
       "30"
      ]
     },
     "execution_count": 12,
     "metadata": {},
     "output_type": "execute_result"
    }
   ],
   "source": [
    "a.size"
   ]
  },
  {
   "cell_type": "code",
   "execution_count": 13,
   "id": "dcd48acf",
   "metadata": {},
   "outputs": [],
   "source": [
    "#8) no, not the same shape"
   ]
  },
  {
   "cell_type": "code",
   "execution_count": 14,
   "id": "f484e958",
   "metadata": {},
   "outputs": [],
   "source": [
    "c=b.reshape(2,3,5)"
   ]
  },
  {
   "cell_type": "code",
   "execution_count": 15,
   "id": "b5368436",
   "metadata": {},
   "outputs": [
    {
     "data": {
      "text/plain": [
       "array([[[1., 1., 1., 1., 1.],\n",
       "        [1., 1., 1., 1., 1.],\n",
       "        [1., 1., 1., 1., 1.]],\n",
       "\n",
       "       [[1., 1., 1., 1., 1.],\n",
       "        [1., 1., 1., 1., 1.],\n",
       "        [1., 1., 1., 1., 1.]]])"
      ]
     },
     "execution_count": 15,
     "metadata": {},
     "output_type": "execute_result"
    }
   ],
   "source": [
    "c"
   ]
  },
  {
   "cell_type": "code",
   "execution_count": 16,
   "id": "1c2d5c69",
   "metadata": {},
   "outputs": [
    {
     "data": {
      "text/plain": [
       "array([[[1.01422808, 1.71647336, 1.37368544, 1.82352738, 1.81009146],\n",
       "        [1.09234917, 1.60192571, 1.04974171, 1.24434547, 1.99230726],\n",
       "        [1.5109829 , 1.22395272, 1.60431254, 1.66565325, 1.5625438 ]],\n",
       "\n",
       "       [[1.05925528, 1.5807624 , 1.02983751, 1.15873564, 1.66784761],\n",
       "        [1.35962397, 1.71703187, 1.6722439 , 1.53208209, 1.80965737],\n",
       "        [1.22911896, 1.5102746 , 1.26919396, 1.56192199, 1.20572996]]])"
      ]
     },
     "execution_count": 16,
     "metadata": {},
     "output_type": "execute_result"
    }
   ],
   "source": [
    "d=a+c\n",
    "d"
   ]
  },
  {
   "cell_type": "code",
   "execution_count": 17,
   "id": "726b1560",
   "metadata": {},
   "outputs": [],
   "source": [
    "#11) a and c have the same shape now (2,3,5)"
   ]
  },
  {
   "cell_type": "code",
   "execution_count": 18,
   "id": "a23d1bc1",
   "metadata": {},
   "outputs": [
    {
     "data": {
      "text/plain": [
       "array([[[0.01422808, 0.71647336, 0.37368544, 0.82352738, 0.81009146],\n",
       "        [0.09234917, 0.60192571, 0.04974171, 0.24434547, 0.99230726],\n",
       "        [0.5109829 , 0.22395272, 0.60431254, 0.66565325, 0.5625438 ]],\n",
       "\n",
       "       [[0.05925528, 0.5807624 , 0.02983751, 0.15873564, 0.66784761],\n",
       "        [0.35962397, 0.71703187, 0.6722439 , 0.53208209, 0.80965737],\n",
       "        [0.22911896, 0.5102746 , 0.26919396, 0.56192199, 0.20572996]]])"
      ]
     },
     "execution_count": 18,
     "metadata": {},
     "output_type": "execute_result"
    }
   ],
   "source": [
    "e=np.multiply(a,c)\n",
    "e"
   ]
  },
  {
   "cell_type": "code",
   "execution_count": 19,
   "id": "266ba3a6",
   "metadata": {},
   "outputs": [],
   "source": [
    "#13) e equals to a because e is just a reshaped b that was multiply with a and only contains 1s : 1*a=a"
   ]
  },
  {
   "cell_type": "code",
   "execution_count": 20,
   "id": "f25efe91",
   "metadata": {},
   "outputs": [],
   "source": [
    "#d_max\", \"d_min\", and \"d_mean\""
   ]
  },
  {
   "cell_type": "code",
   "execution_count": 21,
   "id": "53786cc5",
   "metadata": {},
   "outputs": [
    {
     "data": {
      "text/plain": [
       "array([[[1.01422808, 1.71647336, 1.37368544, 1.82352738, 1.81009146],\n",
       "        [1.09234917, 1.60192571, 1.04974171, 1.24434547, 1.99230726],\n",
       "        [1.5109829 , 1.22395272, 1.60431254, 1.66565325, 1.5625438 ]],\n",
       "\n",
       "       [[1.05925528, 1.5807624 , 1.02983751, 1.15873564, 1.66784761],\n",
       "        [1.35962397, 1.71703187, 1.6722439 , 1.53208209, 1.80965737],\n",
       "        [1.22911896, 1.5102746 , 1.26919396, 1.56192199, 1.20572996]]])"
      ]
     },
     "execution_count": 21,
     "metadata": {},
     "output_type": "execute_result"
    }
   ],
   "source": [
    "d"
   ]
  },
  {
   "cell_type": "code",
   "execution_count": 22,
   "id": "79de2ad0",
   "metadata": {},
   "outputs": [
    {
     "data": {
      "text/plain": [
       "1.9923072618330298"
      ]
     },
     "execution_count": 22,
     "metadata": {},
     "output_type": "execute_result"
    }
   ],
   "source": [
    "d_max=d.max()\n",
    "d_max"
   ]
  },
  {
   "cell_type": "code",
   "execution_count": 23,
   "id": "95c43c95",
   "metadata": {},
   "outputs": [
    {
     "data": {
      "text/plain": [
       "1.0142280807027393"
      ]
     },
     "execution_count": 23,
     "metadata": {},
     "output_type": "execute_result"
    }
   ],
   "source": [
    "d_min=d.min()\n",
    "d_min"
   ]
  },
  {
   "cell_type": "code",
   "execution_count": 24,
   "id": "128a64d0",
   "metadata": {},
   "outputs": [
    {
     "data": {
      "text/plain": [
       "1.4549812454282651"
      ]
     },
     "execution_count": 24,
     "metadata": {},
     "output_type": "execute_result"
    }
   ],
   "source": [
    "d_mean=d.mean()\n",
    "d_mean"
   ]
  },
  {
   "cell_type": "code",
   "execution_count": 25,
   "id": "28302923",
   "metadata": {},
   "outputs": [
    {
     "data": {
      "text/plain": [
       "array([[[1.01422808, 1.71647336, 1.37368544, 1.82352738, 1.81009146],\n",
       "        [1.09234917, 1.60192571, 1.04974171, 1.24434547, 1.99230726],\n",
       "        [1.5109829 , 1.22395272, 1.60431254, 1.66565325, 1.5625438 ]],\n",
       "\n",
       "       [[1.05925528, 1.5807624 , 1.02983751, 1.15873564, 1.66784761],\n",
       "        [1.35962397, 1.71703187, 1.6722439 , 1.53208209, 1.80965737],\n",
       "        [1.22911896, 1.5102746 , 1.26919396, 1.56192199, 1.20572996]]])"
      ]
     },
     "execution_count": 25,
     "metadata": {},
     "output_type": "execute_result"
    }
   ],
   "source": [
    "f=np.empty((2,3,5))\n",
    "f"
   ]
  },
  {
   "cell_type": "code",
   "execution_count": 26,
   "id": "ab7155e3",
   "metadata": {},
   "outputs": [
    {
     "data": {
      "text/plain": [
       "array([[[1.01422808, 1.71647336, 1.37368544, 1.82352738, 1.81009146],\n",
       "        [1.09234917, 1.60192571, 1.04974171, 1.24434547, 1.99230726],\n",
       "        [1.5109829 , 1.22395272, 1.60431254, 1.66565325, 1.5625438 ]],\n",
       "\n",
       "       [[1.05925528, 1.5807624 , 1.02983751, 1.15873564, 1.66784761],\n",
       "        [1.35962397, 1.71703187, 1.6722439 , 1.53208209, 1.80965737],\n",
       "        [1.22911896, 1.5102746 , 1.26919396, 1.56192199, 1.20572996]]])"
      ]
     },
     "execution_count": 26,
     "metadata": {},
     "output_type": "execute_result"
    }
   ],
   "source": [
    "d"
   ]
  },
  {
   "cell_type": "code",
   "execution_count": 27,
   "id": "f3c5934b",
   "metadata": {},
   "outputs": [
    {
     "name": "stdout",
     "output_type": "stream",
     "text": [
      "1.0142280807027393\n",
      "1.4549812454282651\n"
     ]
    }
   ],
   "source": [
    "print(d_min)\n",
    "print(d_mean)"
   ]
  },
  {
   "cell_type": "code",
   "execution_count": 28,
   "id": "63d3c447",
   "metadata": {},
   "outputs": [],
   "source": [
    "conditions = [d == d_min, (d > d_min) & (d < d_mean),d == d_mean, (d>d_mean) & (d<d_max), d == d_max]\n",
    "choices = [0, 25, 50, 75,100]\n",
    "f = np.select(conditions,choices)"
   ]
  },
  {
   "cell_type": "code",
   "execution_count": 29,
   "id": "54552151",
   "metadata": {},
   "outputs": [
    {
     "data": {
      "text/plain": [
       "array([[[  0,  75,  25,  75,  75],\n",
       "        [ 25,  75,  25,  25, 100],\n",
       "        [ 75,  25,  75,  75,  75]],\n",
       "\n",
       "       [[ 25,  75,  25,  25,  75],\n",
       "        [ 25,  75,  75,  75,  75],\n",
       "        [ 25,  75,  25,  75,  25]]])"
      ]
     },
     "execution_count": 29,
     "metadata": {},
     "output_type": "execute_result"
    }
   ],
   "source": [
    "f"
   ]
  },
  {
   "cell_type": "code",
   "execution_count": 30,
   "id": "b0ea8b5a",
   "metadata": {},
   "outputs": [],
   "source": [
    "conditions = [d == d_min, (d > d_min) & (d < d_mean),d == d_mean, (d>d_mean) & (d<d_max), d == d_max]\n",
    "choices = ['A', 'B', 'C', 'D','E']\n",
    "g = np.select(conditions,choices)"
   ]
  },
  {
   "cell_type": "code",
   "execution_count": 31,
   "id": "1df4f8c2",
   "metadata": {},
   "outputs": [
    {
     "data": {
      "text/plain": [
       "array([[['A', 'D', 'B', 'D', 'D'],\n",
       "        ['B', 'D', 'B', 'B', 'E'],\n",
       "        ['D', 'B', 'D', 'D', 'D']],\n",
       "\n",
       "       [['B', 'D', 'B', 'B', 'D'],\n",
       "        ['B', 'D', 'D', 'D', 'D'],\n",
       "        ['B', 'D', 'B', 'D', 'B']]], dtype='<U3')"
      ]
     },
     "execution_count": 31,
     "metadata": {},
     "output_type": "execute_result"
    }
   ],
   "source": [
    "g"
   ]
  }
 ],
 "metadata": {
  "kernelspec": {
   "display_name": "Python 3 (ipykernel)",
   "language": "python",
   "name": "python3"
  },
  "language_info": {
   "codemirror_mode": {
    "name": "ipython",
    "version": 3
   },
   "file_extension": ".py",
   "mimetype": "text/x-python",
   "name": "python",
   "nbconvert_exporter": "python",
   "pygments_lexer": "ipython3",
   "version": "3.9.12"
  }
 },
 "nbformat": 4,
 "nbformat_minor": 5
}
